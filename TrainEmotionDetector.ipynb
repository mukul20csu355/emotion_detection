{
 "cells": [
  {
   "cell_type": "code",
   "execution_count": null,
   "id": "335b99c9",
   "metadata": {},
   "outputs": [
    {
     "name": "stdout",
     "output_type": "stream",
     "text": [
      "Found 28709 images belonging to 7 classes.\n",
      "Found 7178 images belonging to 7 classes.\n"
     ]
    },
    {
     "name": "stderr",
     "output_type": "stream",
     "text": [
      "C:\\Users\\deepa\\anaconda3\\lib\\site-packages\\keras\\optimizers\\optimizer_v2\\adam.py:114: UserWarning: The `lr` argument is deprecated, use `learning_rate` instead.\n",
      "  super().__init__(name, **kwargs)\n",
      "C:\\Users\\deepa\\AppData\\Local\\Temp\\ipykernel_9972\\2545805594.py:55: UserWarning: `Model.fit_generator` is deprecated and will be removed in a future version. Please use `Model.fit`, which supports generators.\n",
      "  emotion_model_info = emotion_model.fit_generator(\n"
     ]
    },
    {
     "name": "stdout",
     "output_type": "stream",
     "text": [
      "Epoch 1/8\n",
      "448/448 [==============================] - 434s 942ms/step - loss: 1.8100 - accuracy: 0.2522 - val_loss: 1.7406 - val_accuracy: 0.2870\n",
      "Epoch 2/8\n",
      "448/448 [==============================] - 410s 915ms/step - loss: 1.6508 - accuracy: 0.3491 - val_loss: 1.5607 - val_accuracy: 0.4042\n",
      "Epoch 3/8\n",
      "448/448 [==============================] - 26s 57ms/step - loss: 1.5472 - accuracy: 0.4071 - val_loss: 1.4765 - val_accuracy: 0.4424\n",
      "Epoch 4/8\n",
      "448/448 [==============================] - 20s 45ms/step - loss: 1.4742 - accuracy: 0.4331 - val_loss: 1.4166 - val_accuracy: 0.4562\n",
      "Epoch 5/8\n",
      "448/448 [==============================] - 21s 47ms/step - loss: 1.4186 - accuracy: 0.4578 - val_loss: 1.3729 - val_accuracy: 0.4849\n",
      "Epoch 6/8\n",
      "448/448 [==============================] - 22s 48ms/step - loss: 1.3651 - accuracy: 0.4795 - val_loss: 1.3321 - val_accuracy: 0.4954\n",
      "Epoch 7/8\n",
      "240/448 [===============>..............] - ETA: 8s - loss: 1.3234 - accuracy: 0.4971"
     ]
    }
   ],
   "source": [
    "\n",
    "#use for image processing allow reding writing and manipulating image task like resizing colour conversion image filtering edge detection\n",
    "#linear stack of layers can create neural networks by adding layers to this model one by one suitable for cnn architectures\n",
    "#creates a convolutional kernal that is convolved with input layer to produce an output tensor core cnn building block responsible for feature extraction\n",
    "#reduce spatial dimension of the input tensor help to reduce no of parameter and computation in the network \n",
    "#a fully connected layer which connects every neuron in one layer to other in next neuron used in final stage for classification tasks\n",
    "#regularization technique randomly selected neurons are ignored during training avoid overfitting\n",
    "#flattens the input convert multidimensinal tensor to one dimentional vector ehich is then fed into fully connected layer\n",
    "#adaptive moment estimation . it combines the advantages of (adagrad&rmspromp) computes individual adaptive learing rate for \n",
    "##diff parameters making effective for deep neural network\n",
    "#provide real time data augmentation and preprocessing ,generate batch of images with real time data augmentation which improves \n",
    "# #the robustness and generalize model capability allow operations like rotation ,shift ,flip\n",
    "# import required packages\n",
    "import cv2\n",
    "from keras.models import Sequential\n",
    "from keras.layers import Conv2D, MaxPooling2D, Dense, Dropout, Flatten\n",
    "from keras.optimizers import Adam\n",
    "from keras.preprocessing.image import ImageDataGenerator\n",
    "\n",
    "# Initialize image data generator with rescaling\n",
    "# creates an instance ,rescale the parameter pixel value of image ,each pixel value will be multiplied by 1/255 this will normalize the range b/w 0-1\n",
    "# preprocessing step in dl , ensures input value lie between a consistent range \n",
    "train_data_gen = ImageDataGenerator(rescale=1./255)\n",
    "validation_data_gen = ImageDataGenerator(rescale=1./255)\n",
    "\n",
    "# Preprocess all train images\n",
    "#supervised model with labelled data , each image belongs to a class,labels are one hot encoded vectors suitable for multiclass classification tasks\n",
    "## labels look li [1,0,0],[0,1,0],[0,0,1]\n",
    "train_generator = train_data_gen.flow_from_directory(\n",
    "        'data/train',   # Directory that contains all the trained images \n",
    "        target_size=(48, 48), #ensures all image have same dimensions required for batch processing and feeding in neural networks\n",
    "        batch_size=64, #no of image to be yield in each batch in each iteration generator provides 64 images at a time\n",
    "        color_mode=\"grayscale\",#loads greyscale image single channel colour useful where colour not necessary\n",
    "        class_mode='categorical')\n",
    "\n",
    "# Preprocess all test images\n",
    "#yield batch of data model use data to compute performance metrics like accuracy&loss on unseen data , helps to calculate generalization capability\n",
    "validation_generator = validation_data_gen.flow_from_directory(\n",
    "        'data/test',  #Directory that contains all the test images\n",
    "        target_size=(48, 48),\n",
    "        batch_size=64,\n",
    "        color_mode=\"grayscale\",\n",
    "        class_mode='categorical')\n",
    "\n",
    "# create model structure\n",
    "#initialize new instance of the sequential class from keras creating an empty model this will be used to build neural network by adding layer in sequential odr\n",
    "emotion_model = Sequential()\n",
    " \n",
    "# First CNN Layer\n",
    "#rectified linear unt helps to learn complex patterns ,32filter,kernel size3x3,input shape height and width of image\n",
    "emotion_model.add(Conv2D(32, kernel_size=(3, 3), activation='relu', input_shape=(48, 48, 1)))\n",
    "emotion_model.add(Conv2D(64, kernel_size=(3, 3), activation='relu'))#64 filters\n",
    "emotion_model.add(MaxPooling2D(pool_size=(2, 2))) # Picks up the maximum value from the pool and forms output\n",
    "emotion_model.add(Dropout(0.25)) # To avoid overfitting 25% neurons\n",
    "\n",
    "# Second CNN Layer\n",
    "emotion_model.add(Conv2D(128, kernel_size=(3, 3), activation='relu')) \n",
    "emotion_model.add(MaxPooling2D(pool_size=(2, 2)))\n",
    "emotion_model.add(Conv2D(128, kernel_size=(3, 3), activation='relu'))\n",
    "emotion_model.add(MaxPooling2D(pool_size=(2, 2)))\n",
    "emotion_model.add(Dropout(0.25)) # To avoid overfitting\n",
    "#add a dense with 1024 neurons\n",
    "#add dense with 7neurons(emotions) ,softmax outputs the probability distribution over 7 classes for multifunction\n",
    "##classification calculate max probability and emotion with max probability is displayed\n",
    "emotion_model.add(Flatten())\n",
    "emotion_model.add(Dense(1024, activation='relu')) # Fully connected neural layer\n",
    "emotion_model.add(Dropout(0.5))\n",
    "emotion_model.add(Dense(7, activation='softmax'))\n",
    "\n",
    "cv2.ocl.setUseOpenCL(False)\n",
    "\n",
    "emotion_model.compile(loss='categorical_crossentropy', optimizer=Adam(lr=0.0001, decay=1e-6), metrics=['accuracy']) # Compiling the model\n",
    "#yields batch of training data and corresponding labels indefinetly in a loop\n",
    "# Train the neural network/model\n",
    "emotion_model_info = emotion_model.fit_generator(\n",
    "        train_generator,\n",
    "        steps_per_epoch=28709 // 64,#specify no of batch samples per epoch tarining sample = 28709 , 64 batch size ,448 steps in each epoch \n",
    "        epochs=8,#no of times to iterate over training data \n",
    "        validation_data=validation_generator,#evaluate performance after each epoch \n",
    "        validation_steps=7178 // 64)#no of validation samples to use per epoch 7178 no of validation samples 64 batch size 112 no of validation steps \n",
    "\n",
    "# save model structure in jason file\n",
    "model_json = emotion_model.to_json()\n",
    "with open('model/emotion_model.json', \"w\") as json_file:\n",
    "    json_file.write(model_json)\n",
    "\n",
    "# save trained model weight in .h5 file\n",
    "emotion_model.save_weights('model/emotion_model.h5')"
   ]
  },
  {
   "cell_type": "code",
   "execution_count": null,
   "id": "6276a3bf",
   "metadata": {},
   "outputs": [],
   "source": []
  }
 ],
 "metadata": {
  "kernelspec": {
   "display_name": "Python 3 (ipykernel)",
   "language": "python",
   "name": "python3"
  },
  "language_info": {
   "codemirror_mode": {
    "name": "ipython",
    "version": 3
   },
   "file_extension": ".py",
   "mimetype": "text/x-python",
   "name": "python",
   "nbconvert_exporter": "python",
   "pygments_lexer": "ipython3",
   "version": "3.9.13"
  }
 },
 "nbformat": 4,
 "nbformat_minor": 5
}
